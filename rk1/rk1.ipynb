{
 "cells": [
  {
   "cell_type": "markdown",
   "metadata": {
    "id": "IpxqiClgXZkr"
   },
   "source": [
    "# **Рубежный контроль №1**\n",
    "**Студент:** Можаев Дмитрий Владимирович  \n",
    "**Группа:** ИУ5-21М   \n",
    "**Вариант:** 8  \n",
    "**Задачи:** 8, 28\n",
    "**Доп. требование:** график \"Диаграмма рассяния\""
   ]
  },
  {
   "cell_type": "markdown",
   "metadata": {
    "id": "SA0i5o8MZxOG",
    "tags": []
   },
   "source": [
    "## Импорт библиотек"
   ]
  },
  {
   "cell_type": "code",
   "execution_count": 22,
   "metadata": {
    "id": "tLRlEGE1XRq7"
   },
   "outputs": [],
   "source": [
    "import numpy as np\n",
    "import pandas as pd\n",
    "import matplotlib.pyplot as plt\n",
    "import seaborn as sns\n",
    "%matplotlib inline"
   ]
  },
  {
   "cell_type": "markdown",
   "metadata": {
    "id": "X3Z82cxYXWMV"
   },
   "source": [
    "## Загрузка и просмотр датасета\n",
    "\n",
    "Датасет содержит данные о географии ковида. Для анализа географии используются 6 числовых показателей: общий процент риска, высокий риск на койку отделения интенсивной терапии, высокий риск для больницы, койки отделения интенсивной терапии, больницы, общий риск."
   ]
  },
  {
   "cell_type": "code",
   "execution_count": 23,
   "metadata": {
    "id": "v6RoCNpLdHDC"
   },
   "outputs": [],
   "source": [
    "df = pd.read_csv('/Users/dmozhaev/prog/university/mmo/rk1/mmsa-icu-beds2.csv')"
   ]
  },
  {
   "cell_type": "code",
   "execution_count": 24,
   "metadata": {
    "colab": {
     "base_uri": "https://localhost:8080/"
    },
    "id": "Ye-urnyrFRRV",
    "outputId": "e5dccc86-0b2c-4794-f562-c57b11a4969c"
   },
   "outputs": [
    {
     "data": {
      "text/plain": [
       "(136, 7)"
      ]
     },
     "execution_count": 24,
     "metadata": {},
     "output_type": "execute_result"
    }
   ],
   "source": [
    "df.shape"
   ]
  },
  {
   "cell_type": "code",
   "execution_count": 25,
   "metadata": {
    "colab": {
     "base_uri": "https://localhost:8080/",
     "height": 589
    },
    "id": "xxN4VI4pH5d3",
    "outputId": "440386ce-6362-4f4b-f1ca-781ecc12946b"
   },
   "outputs": [
    {
     "data": {
      "text/html": [
       "<div>\n",
       "<style scoped>\n",
       "    .dataframe tbody tr th:only-of-type {\n",
       "        vertical-align: middle;\n",
       "    }\n",
       "\n",
       "    .dataframe tbody tr th {\n",
       "        vertical-align: top;\n",
       "    }\n",
       "\n",
       "    .dataframe thead th {\n",
       "        text-align: right;\n",
       "    }\n",
       "</style>\n",
       "<table border=\"1\" class=\"dataframe\">\n",
       "  <thead>\n",
       "    <tr style=\"text-align: right;\">\n",
       "      <th></th>\n",
       "      <th>MMSA</th>\n",
       "      <th>total_percent_at_risk</th>\n",
       "      <th>high_risk_per_ICU_bed</th>\n",
       "      <th>high_risk_per_hospital</th>\n",
       "      <th>icu_beds</th>\n",
       "      <th>hospitals</th>\n",
       "      <th>total_at_risk</th>\n",
       "    </tr>\n",
       "  </thead>\n",
       "  <tbody>\n",
       "    <tr>\n",
       "      <th>0</th>\n",
       "      <td>San Juan-Carolina-Caguas, PR</td>\n",
       "      <td>52.88%</td>\n",
       "      <td>NaN</td>\n",
       "      <td>NaN</td>\n",
       "      <td>NaN</td>\n",
       "      <td>NaN</td>\n",
       "      <td>923725.203</td>\n",
       "    </tr>\n",
       "    <tr>\n",
       "      <th>1</th>\n",
       "      <td>Manhattan, KS</td>\n",
       "      <td>47.29%</td>\n",
       "      <td>4489.848750</td>\n",
       "      <td>8979.69750</td>\n",
       "      <td>8.0</td>\n",
       "      <td>4.0</td>\n",
       "      <td>35918.790</td>\n",
       "    </tr>\n",
       "    <tr>\n",
       "      <th>2</th>\n",
       "      <td>Hilton Head Island-Bluffton-Beaufort, SC</td>\n",
       "      <td>62.72%</td>\n",
       "      <td>3904.163571</td>\n",
       "      <td>36438.86000</td>\n",
       "      <td>28.0</td>\n",
       "      <td>3.0</td>\n",
       "      <td>109316.580</td>\n",
       "    </tr>\n",
       "    <tr>\n",
       "      <th>3</th>\n",
       "      <td>Kahului-Wailuku-Lahaina, HI</td>\n",
       "      <td>59.13%</td>\n",
       "      <td>3860.557000</td>\n",
       "      <td>19302.78500</td>\n",
       "      <td>20.0</td>\n",
       "      <td>4.0</td>\n",
       "      <td>77211.140</td>\n",
       "    </tr>\n",
       "    <tr>\n",
       "      <th>4</th>\n",
       "      <td>Spartanburg, SC</td>\n",
       "      <td>66.12%</td>\n",
       "      <td>3786.115556</td>\n",
       "      <td>85187.60000</td>\n",
       "      <td>45.0</td>\n",
       "      <td>2.0</td>\n",
       "      <td>170375.200</td>\n",
       "    </tr>\n",
       "    <tr>\n",
       "      <th>...</th>\n",
       "      <td>...</td>\n",
       "      <td>...</td>\n",
       "      <td>...</td>\n",
       "      <td>...</td>\n",
       "      <td>...</td>\n",
       "      <td>...</td>\n",
       "      <td>...</td>\n",
       "    </tr>\n",
       "    <tr>\n",
       "      <th>131</th>\n",
       "      <td>Charleston, WV</td>\n",
       "      <td>75.97%</td>\n",
       "      <td>831.689744</td>\n",
       "      <td>25948.72000</td>\n",
       "      <td>156.0</td>\n",
       "      <td>5.0</td>\n",
       "      <td>129743.600</td>\n",
       "    </tr>\n",
       "    <tr>\n",
       "      <th>132</th>\n",
       "      <td>Duluth, MN-WI</td>\n",
       "      <td>60.34%</td>\n",
       "      <td>730.523135</td>\n",
       "      <td>12286.07091</td>\n",
       "      <td>185.0</td>\n",
       "      <td>11.0</td>\n",
       "      <td>135146.780</td>\n",
       "    </tr>\n",
       "    <tr>\n",
       "      <th>133</th>\n",
       "      <td>Reno, NV</td>\n",
       "      <td>57.86%</td>\n",
       "      <td>638.824743</td>\n",
       "      <td>42290.19800</td>\n",
       "      <td>331.0</td>\n",
       "      <td>5.0</td>\n",
       "      <td>211450.990</td>\n",
       "    </tr>\n",
       "    <tr>\n",
       "      <th>134</th>\n",
       "      <td>Gainesville, FL</td>\n",
       "      <td>56.38%</td>\n",
       "      <td>621.449952</td>\n",
       "      <td>65252.24500</td>\n",
       "      <td>210.0</td>\n",
       "      <td>2.0</td>\n",
       "      <td>130504.490</td>\n",
       "    </tr>\n",
       "    <tr>\n",
       "      <th>135</th>\n",
       "      <td>Rochester, MN</td>\n",
       "      <td>54.72%</td>\n",
       "      <td>413.667706</td>\n",
       "      <td>22544.89000</td>\n",
       "      <td>218.0</td>\n",
       "      <td>4.0</td>\n",
       "      <td>90179.560</td>\n",
       "    </tr>\n",
       "  </tbody>\n",
       "</table>\n",
       "<p>136 rows × 7 columns</p>\n",
       "</div>"
      ],
      "text/plain": [
       "                                         MMSA total_percent_at_risk  \\\n",
       "0                San Juan-Carolina-Caguas, PR                52.88%   \n",
       "1                               Manhattan, KS                47.29%   \n",
       "2    Hilton Head Island-Bluffton-Beaufort, SC                62.72%   \n",
       "3                 Kahului-Wailuku-Lahaina, HI                59.13%   \n",
       "4                             Spartanburg, SC                66.12%   \n",
       "..                                        ...                   ...   \n",
       "131                            Charleston, WV                75.97%   \n",
       "132                             Duluth, MN-WI                60.34%   \n",
       "133                                  Reno, NV                57.86%   \n",
       "134                           Gainesville, FL                56.38%   \n",
       "135                             Rochester, MN                54.72%   \n",
       "\n",
       "     high_risk_per_ICU_bed  high_risk_per_hospital  icu_beds  hospitals  \\\n",
       "0                      NaN                     NaN       NaN        NaN   \n",
       "1              4489.848750              8979.69750       8.0        4.0   \n",
       "2              3904.163571             36438.86000      28.0        3.0   \n",
       "3              3860.557000             19302.78500      20.0        4.0   \n",
       "4              3786.115556             85187.60000      45.0        2.0   \n",
       "..                     ...                     ...       ...        ...   \n",
       "131             831.689744             25948.72000     156.0        5.0   \n",
       "132             730.523135             12286.07091     185.0       11.0   \n",
       "133             638.824743             42290.19800     331.0        5.0   \n",
       "134             621.449952             65252.24500     210.0        2.0   \n",
       "135             413.667706             22544.89000     218.0        4.0   \n",
       "\n",
       "     total_at_risk  \n",
       "0       923725.203  \n",
       "1        35918.790  \n",
       "2       109316.580  \n",
       "3        77211.140  \n",
       "4       170375.200  \n",
       "..             ...  \n",
       "131     129743.600  \n",
       "132     135146.780  \n",
       "133     211450.990  \n",
       "134     130504.490  \n",
       "135      90179.560  \n",
       "\n",
       "[136 rows x 7 columns]"
      ]
     },
     "execution_count": 25,
     "metadata": {},
     "output_type": "execute_result"
    }
   ],
   "source": [
    "df"
   ]
  },
  {
   "cell_type": "code",
   "execution_count": 26,
   "metadata": {
    "colab": {
     "base_uri": "https://localhost:8080/",
     "height": 319
    },
    "id": "2C65qh8uJWxr",
    "outputId": "91ca4737-1c97-4e4f-9b73-29e2978687db"
   },
   "outputs": [
    {
     "data": {
      "text/html": [
       "<div>\n",
       "<style scoped>\n",
       "    .dataframe tbody tr th:only-of-type {\n",
       "        vertical-align: middle;\n",
       "    }\n",
       "\n",
       "    .dataframe tbody tr th {\n",
       "        vertical-align: top;\n",
       "    }\n",
       "\n",
       "    .dataframe thead th {\n",
       "        text-align: right;\n",
       "    }\n",
       "</style>\n",
       "<table border=\"1\" class=\"dataframe\">\n",
       "  <thead>\n",
       "    <tr style=\"text-align: right;\">\n",
       "      <th></th>\n",
       "      <th>MMSA</th>\n",
       "      <th>total_percent_at_risk</th>\n",
       "      <th>high_risk_per_ICU_bed</th>\n",
       "      <th>high_risk_per_hospital</th>\n",
       "      <th>icu_beds</th>\n",
       "      <th>hospitals</th>\n",
       "      <th>total_at_risk</th>\n",
       "    </tr>\n",
       "  </thead>\n",
       "  <tbody>\n",
       "    <tr>\n",
       "      <th>0</th>\n",
       "      <td>San Juan-Carolina-Caguas, PR</td>\n",
       "      <td>52.88%</td>\n",
       "      <td>NaN</td>\n",
       "      <td>NaN</td>\n",
       "      <td>NaN</td>\n",
       "      <td>NaN</td>\n",
       "      <td>923725.203</td>\n",
       "    </tr>\n",
       "    <tr>\n",
       "      <th>1</th>\n",
       "      <td>Manhattan, KS</td>\n",
       "      <td>47.29%</td>\n",
       "      <td>4489.848750</td>\n",
       "      <td>8979.6975</td>\n",
       "      <td>8.0</td>\n",
       "      <td>4.0</td>\n",
       "      <td>35918.790</td>\n",
       "    </tr>\n",
       "    <tr>\n",
       "      <th>2</th>\n",
       "      <td>Hilton Head Island-Bluffton-Beaufort, SC</td>\n",
       "      <td>62.72%</td>\n",
       "      <td>3904.163571</td>\n",
       "      <td>36438.8600</td>\n",
       "      <td>28.0</td>\n",
       "      <td>3.0</td>\n",
       "      <td>109316.580</td>\n",
       "    </tr>\n",
       "    <tr>\n",
       "      <th>3</th>\n",
       "      <td>Kahului-Wailuku-Lahaina, HI</td>\n",
       "      <td>59.13%</td>\n",
       "      <td>3860.557000</td>\n",
       "      <td>19302.7850</td>\n",
       "      <td>20.0</td>\n",
       "      <td>4.0</td>\n",
       "      <td>77211.140</td>\n",
       "    </tr>\n",
       "    <tr>\n",
       "      <th>4</th>\n",
       "      <td>Spartanburg, SC</td>\n",
       "      <td>66.12%</td>\n",
       "      <td>3786.115556</td>\n",
       "      <td>85187.6000</td>\n",
       "      <td>45.0</td>\n",
       "      <td>2.0</td>\n",
       "      <td>170375.200</td>\n",
       "    </tr>\n",
       "  </tbody>\n",
       "</table>\n",
       "</div>"
      ],
      "text/plain": [
       "                                       MMSA total_percent_at_risk  \\\n",
       "0              San Juan-Carolina-Caguas, PR                52.88%   \n",
       "1                             Manhattan, KS                47.29%   \n",
       "2  Hilton Head Island-Bluffton-Beaufort, SC                62.72%   \n",
       "3               Kahului-Wailuku-Lahaina, HI                59.13%   \n",
       "4                           Spartanburg, SC                66.12%   \n",
       "\n",
       "   high_risk_per_ICU_bed  high_risk_per_hospital  icu_beds  hospitals  \\\n",
       "0                    NaN                     NaN       NaN        NaN   \n",
       "1            4489.848750               8979.6975       8.0        4.0   \n",
       "2            3904.163571              36438.8600      28.0        3.0   \n",
       "3            3860.557000              19302.7850      20.0        4.0   \n",
       "4            3786.115556              85187.6000      45.0        2.0   \n",
       "\n",
       "   total_at_risk  \n",
       "0     923725.203  \n",
       "1      35918.790  \n",
       "2     109316.580  \n",
       "3      77211.140  \n",
       "4     170375.200  "
      ]
     },
     "execution_count": 26,
     "metadata": {},
     "output_type": "execute_result"
    }
   ],
   "source": [
    "df.head()"
   ]
  },
  {
   "cell_type": "code",
   "execution_count": 27,
   "metadata": {
    "colab": {
     "base_uri": "https://localhost:8080/"
    },
    "id": "Z8tzWJrjJt76",
    "outputId": "f6fae459-b5e3-4c0a-c49d-348041098e0f"
   },
   "outputs": [
    {
     "name": "stdout",
     "output_type": "stream",
     "text": [
      "<class 'pandas.core.frame.DataFrame'>\n",
      "RangeIndex: 136 entries, 0 to 135\n",
      "Data columns (total 7 columns):\n",
      " #   Column                  Non-Null Count  Dtype  \n",
      "---  ------                  --------------  -----  \n",
      " 0   MMSA                    136 non-null    object \n",
      " 1   total_percent_at_risk   135 non-null    object \n",
      " 2   high_risk_per_ICU_bed   130 non-null    float64\n",
      " 3   high_risk_per_hospital  133 non-null    float64\n",
      " 4   icu_beds                133 non-null    float64\n",
      " 5   hospitals               134 non-null    float64\n",
      " 6   total_at_risk           133 non-null    float64\n",
      "dtypes: float64(5), object(2)\n",
      "memory usage: 7.6+ KB\n"
     ]
    }
   ],
   "source": [
    "df.info()"
   ]
  },
  {
   "cell_type": "markdown",
   "metadata": {
    "id": "XTnyDqIqXZ_5"
   },
   "source": [
    "## 1. Задача 8\n",
    "Для набора данных проведите устранение пропусков для одного (произвольного) числового признака с использованием метода заполнения модой."
   ]
  },
  {
   "cell_type": "code",
   "execution_count": 28,
   "metadata": {
    "colab": {
     "base_uri": "https://localhost:8080/"
    },
    "id": "UmuHxCCXHvHV",
    "outputId": "ed61eb18-65c9-4759-aa2a-9b14c7bb3838"
   },
   "outputs": [
    {
     "data": {
      "text/plain": [
       "[('MMSA', 0),\n",
       " ('total_percent_at_risk', 1),\n",
       " ('high_risk_per_ICU_bed', 6),\n",
       " ('high_risk_per_hospital', 3),\n",
       " ('icu_beds', 3),\n",
       " ('hospitals', 2),\n",
       " ('total_at_risk', 3)]"
      ]
     },
     "execution_count": 28,
     "metadata": {},
     "output_type": "execute_result"
    }
   ],
   "source": [
    "# Количество пропусков\n",
    "[(i, df[i].isnull().sum()) for i in df.columns]"
   ]
  },
  {
   "cell_type": "code",
   "execution_count": 29,
   "metadata": {
    "colab": {
     "base_uri": "https://localhost:8080/"
    },
    "id": "04hJoboWdIMV",
    "outputId": "5ea17736-40f7-4df4-c431-7483bb4e902a"
   },
   "outputs": [
    {
     "data": {
      "text/plain": [
       "1928.9759412084618"
      ]
     },
     "execution_count": 29,
     "metadata": {},
     "output_type": "execute_result"
    }
   ],
   "source": [
    "# Похоже на нормальное\n",
    "# total_at_risk_ev = df['total_at_risk'].mean() + 3*df['total_at_risk'].std()\n",
    "# total_at_risk_ev\n",
    "mode_high_risk_per_ICU_bed = df['high_risk_per_ICU_bed'].mean()\n",
    "mode_high_risk_per_ICU_bed # Самое популярное значение"
   ]
  },
  {
   "cell_type": "code",
   "execution_count": 30,
   "metadata": {
    "id": "2BjKAiA2Lg2y"
   },
   "outputs": [],
   "source": [
    "df['high_risk_per_ICU_bed'].fillna(mode_high_risk_per_ICU_bed, inplace=True)"
   ]
  },
  {
   "cell_type": "code",
   "execution_count": 31,
   "metadata": {
    "colab": {
     "base_uri": "https://localhost:8080/"
    },
    "id": "XeFYfsoCU6KT",
    "outputId": "46da358f-3795-4756-8b04-696cab4f8bf9"
   },
   "outputs": [
    {
     "name": "stdout",
     "output_type": "stream",
     "text": [
      "<class 'pandas.core.frame.DataFrame'>\n",
      "RangeIndex: 136 entries, 0 to 135\n",
      "Data columns (total 7 columns):\n",
      " #   Column                  Non-Null Count  Dtype  \n",
      "---  ------                  --------------  -----  \n",
      " 0   MMSA                    136 non-null    object \n",
      " 1   total_percent_at_risk   135 non-null    object \n",
      " 2   high_risk_per_ICU_bed   136 non-null    float64\n",
      " 3   high_risk_per_hospital  133 non-null    float64\n",
      " 4   icu_beds                133 non-null    float64\n",
      " 5   hospitals               134 non-null    float64\n",
      " 6   total_at_risk           133 non-null    float64\n",
      "dtypes: float64(5), object(2)\n",
      "memory usage: 7.6+ KB\n"
     ]
    }
   ],
   "source": [
    "df.info()"
   ]
  },
  {
   "cell_type": "code",
   "execution_count": 32,
   "metadata": {},
   "outputs": [
    {
     "data": {
      "text/plain": [
       "[('MMSA', 0),\n",
       " ('total_percent_at_risk', 1),\n",
       " ('high_risk_per_ICU_bed', 0),\n",
       " ('high_risk_per_hospital', 3),\n",
       " ('icu_beds', 3),\n",
       " ('hospitals', 2),\n",
       " ('total_at_risk', 3)]"
      ]
     },
     "execution_count": 32,
     "metadata": {},
     "output_type": "execute_result"
    }
   ],
   "source": [
    "[(i, df[i].isnull().sum()) for i in df.columns]"
   ]
  },
  {
   "cell_type": "markdown",
   "metadata": {
    "id": "hz-S6wn7WpGq"
   },
   "source": [
    "Из результатов видно, что пропуски в колонке high_risk_per_ICU_bed были устранены."
   ]
  },
  {
   "cell_type": "markdown",
   "metadata": {
    "id": "zRKGDKcYcy-C"
   },
   "source": [
    "## 2. Задача 28\n",
    "\n",
    "Для набора данных для одного (произвольного) числового признака проведите обнаружение и замену (найденными верхними и нижними границами) выбросов на основе межквартильного размаха."
   ]
  },
  {
   "cell_type": "code",
   "execution_count": 33,
   "metadata": {
    "id": "bwtqotKPdI96"
   },
   "outputs": [],
   "source": [
    "df2 = pd.read_csv('/Users/dmozhaev/prog/university/mmo/rk1/mmsa-icu-beds2.csv')"
   ]
  },
  {
   "cell_type": "code",
   "execution_count": 34,
   "metadata": {
    "colab": {
     "base_uri": "https://localhost:8080/"
    },
    "id": "VdkrD9gjMual",
    "outputId": "94fa1970-7196-421c-904c-8545ba4e5dad"
   },
   "outputs": [
    {
     "name": "stdout",
     "output_type": "stream",
     "text": [
      "<class 'pandas.core.frame.DataFrame'>\n",
      "RangeIndex: 136 entries, 0 to 135\n",
      "Data columns (total 7 columns):\n",
      " #   Column                  Non-Null Count  Dtype  \n",
      "---  ------                  --------------  -----  \n",
      " 0   MMSA                    136 non-null    object \n",
      " 1   total_percent_at_risk   135 non-null    object \n",
      " 2   high_risk_per_ICU_bed   130 non-null    float64\n",
      " 3   high_risk_per_hospital  133 non-null    float64\n",
      " 4   icu_beds                133 non-null    float64\n",
      " 5   hospitals               134 non-null    float64\n",
      " 6   total_at_risk           133 non-null    float64\n",
      "dtypes: float64(5), object(2)\n",
      "memory usage: 7.6+ KB\n"
     ]
    }
   ],
   "source": [
    "df2.info()"
   ]
  },
  {
   "cell_type": "code",
   "execution_count": 35,
   "metadata": {},
   "outputs": [],
   "source": [
    "# Функция вычисления верхней и нижней границы выбросов, которая показана в лекции\n",
    "def get_outlier_boundaries(df, col,k):\n",
    "    q1= 0.25\n",
    "    q2= 0.75\n",
    "    IQR = df[col].quantile(q2) - df[col].quantile(q1)\n",
    "    print(IQR,(k * IQR))\n",
    "    print(df[col].quantile(q1))\n",
    "    print(df[col].quantile(q2))\n",
    "    lower_boundary = df[col].quantile(q1) - (k * IQR)\n",
    "    upper_boundary = df[col].quantile(q2) + (k * IQR)\n",
    "    return lower_boundary, upper_boundary "
   ]
  },
  {
   "cell_type": "code",
   "execution_count": 63,
   "metadata": {},
   "outputs": [
    {
     "name": "stdout",
     "output_type": "stream",
     "text": [
      "26456.65338 26456.65338\n",
      "30190.0025\n",
      "56646.65588\n"
     ]
    },
    {
     "data": {
      "text/plain": [
       "(3733.349119999999, 83103.30926)"
      ]
     },
     "execution_count": 63,
     "metadata": {},
     "output_type": "execute_result"
    }
   ],
   "source": [
    "lower_boundary, upper_boundary = get_outlier_boundaries(df2, \"high_risk_per_hospital\", 1)\n",
    "lower_boundary,upper_boundary"
   ]
  },
  {
   "cell_type": "code",
   "execution_count": 75,
   "metadata": {},
   "outputs": [
    {
     "data": {
      "text/plain": [
       "<AxesSubplot:>"
      ]
     },
     "execution_count": 75,
     "metadata": {},
     "output_type": "execute_result"
    },
    {
     "data": {
      "image/png": "[encoded data removed]",
      "text/plain": [
       "<Figure size 432x288 with 1 Axes>"
      ]
     },
     "metadata": {
      "needs_background": "light"
     },
     "output_type": "display_data"
    }
   ],
   "source": [
    "df2['high_risk_per_hospital'].hist(bins=100)"
   ]
  },
  {
   "cell_type": "code",
   "execution_count": 66,
   "metadata": {},
   "outputs": [],
   "source": [
    "# Флаги для удаления выбросов\n",
    "outliers_temp = np.where(df2['high_risk_per_hospital'] > upper_boundary, True, np.where(df2['high_risk_per_hospital'] < lower_boundary, True, False))\n",
    "# Удаление данных на основе флага\n",
    "outliers_temp\n",
    "data_trimmed = df2.loc[~(outliers_temp), ] "
   ]
  },
  {
   "cell_type": "code",
   "execution_count": 67,
   "metadata": {},
   "outputs": [
    {
     "name": "stdout",
     "output_type": "stream",
     "text": [
      "<class 'pandas.core.frame.DataFrame'>\n",
      "Int64Index: 134 entries, 0 to 135\n",
      "Data columns (total 7 columns):\n",
      " #   Column                  Non-Null Count  Dtype  \n",
      "---  ------                  --------------  -----  \n",
      " 0   MMSA                    134 non-null    object \n",
      " 1   total_percent_at_risk   133 non-null    object \n",
      " 2   high_risk_per_ICU_bed   128 non-null    float64\n",
      " 3   high_risk_per_hospital  131 non-null    float64\n",
      " 4   icu_beds                131 non-null    float64\n",
      " 5   hospitals               132 non-null    float64\n",
      " 6   total_at_risk           131 non-null    float64\n",
      "dtypes: float64(5), object(2)\n",
      "memory usage: 8.4+ KB\n"
     ]
    }
   ],
   "source": [
    "data_trimmed.info()"
   ]
  },
  {
   "cell_type": "code",
   "execution_count": 74,
   "metadata": {},
   "outputs": [
    {
     "data": {
      "text/plain": [
       "<AxesSubplot:>"
      ]
     },
     "execution_count": 74,
     "metadata": {},
     "output_type": "execute_result"
    },
    {
     "data": {
      "image/png": "[encoded data removed]",
      "text/plain": [
       "<Figure size 432x288 with 1 Axes>"
      ]
     },
     "metadata": {
      "needs_background": "light"
     },
     "output_type": "display_data"
    }
   ],
   "source": [
    "data_trimmed['high_risk_per_hospital'].hist(bins=100)"
   ]
  },
  {
   "cell_type": "markdown",
   "metadata": {},
   "source": [
    "На новом графике можем наблюдать, что выбросы вне квантиля были успешно устранены и данные стали более чистыми"
   ]
  },
  {
   "cell_type": "markdown",
   "metadata": {
    "id": "E0z7YPUML6pv"
   },
   "source": [
    "## Дополнительное задание\n",
    "Для пары произвольных колонок данных построить график \"Диаграмма рассеяния\"."
   ]
  },
  {
   "cell_type": "code",
   "execution_count": 71,
   "metadata": {
    "id": "z2DyWOtJghVE"
   },
   "outputs": [],
   "source": [
    "df_dop = pd.read_csv('/Users/dmozhaev/prog/university/mmo/rk1/mmsa-icu-beds2.csv')"
   ]
  },
  {
   "cell_type": "code",
   "execution_count": 72,
   "metadata": {
    "colab": {
     "base_uri": "https://localhost:8080/",
     "height": 298
    },
    "id": "lPOVe2VBMT7q",
    "outputId": "6f4871c8-6bfe-4fa5-f9c7-0394efded468"
   },
   "outputs": [
    {
     "data": {
      "text/plain": [
       "<AxesSubplot:xlabel='icu_beds', ylabel='total_at_risk'>"
      ]
     },
     "execution_count": 72,
     "metadata": {},
     "output_type": "execute_result"
    },
    {
     "data": {
      "image/png": "[encoded data removed]",
      "text/plain": [
       "<Figure size 432x288 with 1 Axes>"
      ]
     },
     "metadata": {
      "needs_background": "light"
     },
     "output_type": "display_data"
    }
   ],
   "source": [
    "sns.regplot(x=df_dop['icu_beds'], y=df_dop['total_at_risk'])"
   ]
  },
  {
   "cell_type": "markdown",
   "metadata": {
    "id": "2cPhmRKMMX5u"
   },
   "source": [
    "Построили график рассеяния, показывающий зависимость между двумя признаками: icu beds (кровати отделения интенсивной терапии) и total_at_risk (риск для больницы)."
   ]
  }
 ],
 "metadata": {
  "colab": {
   "collapsed_sections": [],
   "include_colab_link": true,
   "name": "RK1_Pinskaya.ipynb",
   "provenance": []
  },
  "kernelspec": {
   "display_name": "Python 3 (ipykernel)",
   "language": "python",
   "name": "python3"
  },
  "language_info": {
   "codemirror_mode": {
    "name": "ipython",
    "version": 3
   },
   "file_extension": ".py",
   "mimetype": "text/x-python",
   "name": "python",
   "nbconvert_exporter": "python",
   "pygments_lexer": "ipython3",
   "version": "3.9.7"
  }
 },
 "nbformat": 4,
 "nbformat_minor": 4
}
